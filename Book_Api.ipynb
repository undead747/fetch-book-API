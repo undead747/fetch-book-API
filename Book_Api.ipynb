{
 "cells": [
  {
   "cell_type": "markdown",
   "metadata": {},
   "source": [
    "## Import processed dataset"
   ]
  },
  {
   "cell_type": "code",
   "execution_count": 1,
   "metadata": {},
   "outputs": [],
   "source": [
    "import pandas as pd"
   ]
  },
  {
   "cell_type": "code",
   "execution_count": 2,
   "metadata": {},
   "outputs": [],
   "source": [
    "raw_books = pd.read_csv('./dataset/processed_dataset/processed_books.csv')"
   ]
  },
  {
   "cell_type": "code",
   "execution_count": 3,
   "metadata": {},
   "outputs": [
    {
     "data": {
      "text/html": [
       "<div>\n",
       "<style scoped>\n",
       "    .dataframe tbody tr th:only-of-type {\n",
       "        vertical-align: middle;\n",
       "    }\n",
       "\n",
       "    .dataframe tbody tr th {\n",
       "        vertical-align: top;\n",
       "    }\n",
       "\n",
       "    .dataframe thead th {\n",
       "        text-align: right;\n",
       "    }\n",
       "</style>\n",
       "<table border=\"1\" class=\"dataframe\">\n",
       "  <thead>\n",
       "    <tr style=\"text-align: right;\">\n",
       "      <th></th>\n",
       "      <th>bookID</th>\n",
       "      <th>title</th>\n",
       "      <th>authors</th>\n",
       "      <th>average_rating</th>\n",
       "      <th>isbn</th>\n",
       "      <th>isbn13</th>\n",
       "      <th>language_code</th>\n",
       "      <th># num_pages</th>\n",
       "      <th>ratings_count</th>\n",
       "      <th>text_reviews_count</th>\n",
       "    </tr>\n",
       "  </thead>\n",
       "  <tbody>\n",
       "    <tr>\n",
       "      <th>0</th>\n",
       "      <td>1</td>\n",
       "      <td>Harry Potter and the Half-Blood Prince (Harry ...</td>\n",
       "      <td>J.K. Rowling-Mary GrandPré</td>\n",
       "      <td>4.56</td>\n",
       "      <td>0439785960</td>\n",
       "      <td>9780439785969</td>\n",
       "      <td>eng</td>\n",
       "      <td>652</td>\n",
       "      <td>1944099</td>\n",
       "      <td>26249</td>\n",
       "    </tr>\n",
       "    <tr>\n",
       "      <th>1</th>\n",
       "      <td>2</td>\n",
       "      <td>Harry Potter and the Order of the Phoenix (Har...</td>\n",
       "      <td>J.K. Rowling-Mary GrandPré</td>\n",
       "      <td>4.49</td>\n",
       "      <td>0439358078</td>\n",
       "      <td>9780439358071</td>\n",
       "      <td>eng</td>\n",
       "      <td>870</td>\n",
       "      <td>1996446</td>\n",
       "      <td>27613</td>\n",
       "    </tr>\n",
       "    <tr>\n",
       "      <th>2</th>\n",
       "      <td>3</td>\n",
       "      <td>Harry Potter and the Sorcerer's Stone (Harry P...</td>\n",
       "      <td>J.K. Rowling-Mary GrandPré</td>\n",
       "      <td>4.47</td>\n",
       "      <td>0439554934</td>\n",
       "      <td>9780439554930</td>\n",
       "      <td>eng</td>\n",
       "      <td>320</td>\n",
       "      <td>5629932</td>\n",
       "      <td>70390</td>\n",
       "    </tr>\n",
       "    <tr>\n",
       "      <th>3</th>\n",
       "      <td>5</td>\n",
       "      <td>Harry Potter and the Prisoner of Azkaban (Harr...</td>\n",
       "      <td>J.K. Rowling-Mary GrandPré</td>\n",
       "      <td>4.55</td>\n",
       "      <td>043965548X</td>\n",
       "      <td>9780439655484</td>\n",
       "      <td>eng</td>\n",
       "      <td>435</td>\n",
       "      <td>2149872</td>\n",
       "      <td>33964</td>\n",
       "    </tr>\n",
       "    <tr>\n",
       "      <th>4</th>\n",
       "      <td>8</td>\n",
       "      <td>Harry Potter Boxed Set  Books 1-5 (Harry Potte...</td>\n",
       "      <td>J.K. Rowling-Mary GrandPré</td>\n",
       "      <td>4.78</td>\n",
       "      <td>0439682584</td>\n",
       "      <td>9780439682589</td>\n",
       "      <td>eng</td>\n",
       "      <td>2690</td>\n",
       "      <td>38872</td>\n",
       "      <td>154</td>\n",
       "    </tr>\n",
       "    <tr>\n",
       "      <th>...</th>\n",
       "      <td>...</td>\n",
       "      <td>...</td>\n",
       "      <td>...</td>\n",
       "      <td>...</td>\n",
       "      <td>...</td>\n",
       "      <td>...</td>\n",
       "      <td>...</td>\n",
       "      <td>...</td>\n",
       "      <td>...</td>\n",
       "      <td>...</td>\n",
       "    </tr>\n",
       "    <tr>\n",
       "      <th>2738</th>\n",
       "      <td>47693</td>\n",
       "      <td>The Day I Swapped My Dad for Two Goldfish</td>\n",
       "      <td>Neil Gaiman-Dave McKean</td>\n",
       "      <td>4.03</td>\n",
       "      <td>0060587016</td>\n",
       "      <td>9780060587017</td>\n",
       "      <td>en-US</td>\n",
       "      <td>64</td>\n",
       "      <td>8744</td>\n",
       "      <td>524</td>\n",
       "    </tr>\n",
       "    <tr>\n",
       "      <th>2739</th>\n",
       "      <td>47697</td>\n",
       "      <td>The Sandman: King of Dreams</td>\n",
       "      <td>Alisa Kwitney-Neil Gaiman</td>\n",
       "      <td>4.62</td>\n",
       "      <td>0811835928</td>\n",
       "      <td>9780811835923</td>\n",
       "      <td>eng</td>\n",
       "      <td>180</td>\n",
       "      <td>12775</td>\n",
       "      <td>34</td>\n",
       "    </tr>\n",
       "    <tr>\n",
       "      <th>2740</th>\n",
       "      <td>47699</td>\n",
       "      <td>M Is for Magic</td>\n",
       "      <td>Neil Gaiman-Teddy Kristiansen</td>\n",
       "      <td>3.82</td>\n",
       "      <td>0061186422</td>\n",
       "      <td>9780061186424</td>\n",
       "      <td>eng</td>\n",
       "      <td>260</td>\n",
       "      <td>11317</td>\n",
       "      <td>1060</td>\n",
       "    </tr>\n",
       "    <tr>\n",
       "      <th>2741</th>\n",
       "      <td>47700</td>\n",
       "      <td>Black Orchid</td>\n",
       "      <td>Neil Gaiman-Dave McKean</td>\n",
       "      <td>3.72</td>\n",
       "      <td>0930289552</td>\n",
       "      <td>9780930289553</td>\n",
       "      <td>eng</td>\n",
       "      <td>160</td>\n",
       "      <td>8710</td>\n",
       "      <td>361</td>\n",
       "    </tr>\n",
       "    <tr>\n",
       "      <th>2742</th>\n",
       "      <td>47701</td>\n",
       "      <td>InterWorld (InterWorld  #1)</td>\n",
       "      <td>Neil Gaiman-Michael Reaves</td>\n",
       "      <td>3.53</td>\n",
       "      <td>0061238961</td>\n",
       "      <td>9780061238963</td>\n",
       "      <td>en-US</td>\n",
       "      <td>239</td>\n",
       "      <td>14334</td>\n",
       "      <td>1485</td>\n",
       "    </tr>\n",
       "  </tbody>\n",
       "</table>\n",
       "<p>2743 rows × 10 columns</p>\n",
       "</div>"
      ],
      "text/plain": [
       "      bookID                                              title  \\\n",
       "0          1  Harry Potter and the Half-Blood Prince (Harry ...   \n",
       "1          2  Harry Potter and the Order of the Phoenix (Har...   \n",
       "2          3  Harry Potter and the Sorcerer's Stone (Harry P...   \n",
       "3          5  Harry Potter and the Prisoner of Azkaban (Harr...   \n",
       "4          8  Harry Potter Boxed Set  Books 1-5 (Harry Potte...   \n",
       "...      ...                                                ...   \n",
       "2738   47693          The Day I Swapped My Dad for Two Goldfish   \n",
       "2739   47697                        The Sandman: King of Dreams   \n",
       "2740   47699                                     M Is for Magic   \n",
       "2741   47700                                       Black Orchid   \n",
       "2742   47701                        InterWorld (InterWorld  #1)   \n",
       "\n",
       "                            authors  average_rating        isbn  \\\n",
       "0        J.K. Rowling-Mary GrandPré            4.56  0439785960   \n",
       "1        J.K. Rowling-Mary GrandPré            4.49  0439358078   \n",
       "2        J.K. Rowling-Mary GrandPré            4.47  0439554934   \n",
       "3        J.K. Rowling-Mary GrandPré            4.55  043965548X   \n",
       "4        J.K. Rowling-Mary GrandPré            4.78  0439682584   \n",
       "...                             ...             ...         ...   \n",
       "2738        Neil Gaiman-Dave McKean            4.03  0060587016   \n",
       "2739      Alisa Kwitney-Neil Gaiman            4.62  0811835928   \n",
       "2740  Neil Gaiman-Teddy Kristiansen            3.82  0061186422   \n",
       "2741        Neil Gaiman-Dave McKean            3.72  0930289552   \n",
       "2742     Neil Gaiman-Michael Reaves            3.53  0061238961   \n",
       "\n",
       "             isbn13 language_code  # num_pages  ratings_count  \\\n",
       "0     9780439785969           eng          652        1944099   \n",
       "1     9780439358071           eng          870        1996446   \n",
       "2     9780439554930           eng          320        5629932   \n",
       "3     9780439655484           eng          435        2149872   \n",
       "4     9780439682589           eng         2690          38872   \n",
       "...             ...           ...          ...            ...   \n",
       "2738  9780060587017         en-US           64           8744   \n",
       "2739  9780811835923           eng          180          12775   \n",
       "2740  9780061186424           eng          260          11317   \n",
       "2741  9780930289553           eng          160           8710   \n",
       "2742  9780061238963         en-US          239          14334   \n",
       "\n",
       "      text_reviews_count  \n",
       "0                  26249  \n",
       "1                  27613  \n",
       "2                  70390  \n",
       "3                  33964  \n",
       "4                    154  \n",
       "...                  ...  \n",
       "2738                 524  \n",
       "2739                  34  \n",
       "2740                1060  \n",
       "2741                 361  \n",
       "2742                1485  \n",
       "\n",
       "[2743 rows x 10 columns]"
      ]
     },
     "execution_count": 3,
     "metadata": {},
     "output_type": "execute_result"
    }
   ],
   "source": [
    "raw_books"
   ]
  },
  {
   "cell_type": "code",
   "execution_count": 4,
   "metadata": {},
   "outputs": [
    {
     "name": "stdout",
     "output_type": "stream",
     "text": [
      "<class 'pandas.core.frame.DataFrame'>\n",
      "RangeIndex: 2743 entries, 0 to 2742\n",
      "Data columns (total 10 columns):\n",
      "bookID                2743 non-null int64\n",
      "title                 2743 non-null object\n",
      "authors               2743 non-null object\n",
      "average_rating        2743 non-null float64\n",
      "isbn                  2743 non-null object\n",
      "isbn13                2743 non-null int64\n",
      "language_code         2743 non-null object\n",
      "# num_pages           2743 non-null int64\n",
      "ratings_count         2743 non-null int64\n",
      "text_reviews_count    2743 non-null int64\n",
      "dtypes: float64(1), int64(5), object(4)\n",
      "memory usage: 214.4+ KB\n"
     ]
    }
   ],
   "source": [
    "raw_books.info()"
   ]
  },
  {
   "cell_type": "code",
   "execution_count": 5,
   "metadata": {},
   "outputs": [],
   "source": [
    "books = raw_books[['title','# num_pages']]"
   ]
  },
  {
   "cell_type": "code",
   "execution_count": 6,
   "metadata": {},
   "outputs": [],
   "source": [
    "books = books.rename(columns={'# num_pages':'page_number'})"
   ]
  },
  {
   "cell_type": "code",
   "execution_count": 9,
   "metadata": {},
   "outputs": [
    {
     "data": {
      "text/html": [
       "<div>\n",
       "<style scoped>\n",
       "    .dataframe tbody tr th:only-of-type {\n",
       "        vertical-align: middle;\n",
       "    }\n",
       "\n",
       "    .dataframe tbody tr th {\n",
       "        vertical-align: top;\n",
       "    }\n",
       "\n",
       "    .dataframe thead th {\n",
       "        text-align: right;\n",
       "    }\n",
       "</style>\n",
       "<table border=\"1\" class=\"dataframe\">\n",
       "  <thead>\n",
       "    <tr style=\"text-align: right;\">\n",
       "      <th></th>\n",
       "      <th>title</th>\n",
       "      <th>page_number</th>\n",
       "    </tr>\n",
       "  </thead>\n",
       "  <tbody>\n",
       "    <tr>\n",
       "      <th>0</th>\n",
       "      <td>Harry Potter and the Half-Blood Prince (Harry ...</td>\n",
       "      <td>652</td>\n",
       "    </tr>\n",
       "    <tr>\n",
       "      <th>1</th>\n",
       "      <td>Harry Potter and the Order of the Phoenix (Har...</td>\n",
       "      <td>870</td>\n",
       "    </tr>\n",
       "    <tr>\n",
       "      <th>2</th>\n",
       "      <td>Harry Potter and the Sorcerer's Stone (Harry P...</td>\n",
       "      <td>320</td>\n",
       "    </tr>\n",
       "    <tr>\n",
       "      <th>3</th>\n",
       "      <td>Harry Potter and the Prisoner of Azkaban (Harr...</td>\n",
       "      <td>435</td>\n",
       "    </tr>\n",
       "    <tr>\n",
       "      <th>4</th>\n",
       "      <td>Harry Potter Boxed Set  Books 1-5 (Harry Potte...</td>\n",
       "      <td>2690</td>\n",
       "    </tr>\n",
       "    <tr>\n",
       "      <th>...</th>\n",
       "      <td>...</td>\n",
       "      <td>...</td>\n",
       "    </tr>\n",
       "    <tr>\n",
       "      <th>2738</th>\n",
       "      <td>The Day I Swapped My Dad for Two Goldfish</td>\n",
       "      <td>64</td>\n",
       "    </tr>\n",
       "    <tr>\n",
       "      <th>2739</th>\n",
       "      <td>The Sandman: King of Dreams</td>\n",
       "      <td>180</td>\n",
       "    </tr>\n",
       "    <tr>\n",
       "      <th>2740</th>\n",
       "      <td>M Is for Magic</td>\n",
       "      <td>260</td>\n",
       "    </tr>\n",
       "    <tr>\n",
       "      <th>2741</th>\n",
       "      <td>Black Orchid</td>\n",
       "      <td>160</td>\n",
       "    </tr>\n",
       "    <tr>\n",
       "      <th>2742</th>\n",
       "      <td>InterWorld (InterWorld  #1)</td>\n",
       "      <td>239</td>\n",
       "    </tr>\n",
       "  </tbody>\n",
       "</table>\n",
       "<p>2743 rows × 2 columns</p>\n",
       "</div>"
      ],
      "text/plain": [
       "                                                  title  page_number\n",
       "0     Harry Potter and the Half-Blood Prince (Harry ...          652\n",
       "1     Harry Potter and the Order of the Phoenix (Har...          870\n",
       "2     Harry Potter and the Sorcerer's Stone (Harry P...          320\n",
       "3     Harry Potter and the Prisoner of Azkaban (Harr...          435\n",
       "4     Harry Potter Boxed Set  Books 1-5 (Harry Potte...         2690\n",
       "...                                                 ...          ...\n",
       "2738          The Day I Swapped My Dad for Two Goldfish           64\n",
       "2739                        The Sandman: King of Dreams          180\n",
       "2740                                     M Is for Magic          260\n",
       "2741                                       Black Orchid          160\n",
       "2742                        InterWorld (InterWorld  #1)          239\n",
       "\n",
       "[2743 rows x 2 columns]"
      ]
     },
     "execution_count": 9,
     "metadata": {},
     "output_type": "execute_result"
    }
   ],
   "source": [
    "books"
   ]
  },
  {
   "cell_type": "markdown",
   "metadata": {},
   "source": [
    "## Get books API"
   ]
  },
  {
   "cell_type": "markdown",
   "metadata": {},
   "source": [
    "### Goodread API"
   ]
  },
  {
   "cell_type": "code",
   "execution_count": 10,
   "metadata": {},
   "outputs": [],
   "source": [
    "import goodreads_api_client as gr\n",
    "client = gr.Client(developer_key='bFBoXe5POBSK3Tngu0nSHQ')"
   ]
  },
  {
   "cell_type": "markdown",
   "metadata": {},
   "source": [
    "##### Book API Example"
   ]
  },
  {
   "cell_type": "code",
   "execution_count": 11,
   "metadata": {
    "scrolled": true
   },
   "outputs": [],
   "source": [
    "#client.Book.show('47700')"
   ]
  },
  {
   "cell_type": "markdown",
   "metadata": {},
   "source": [
    "### Librarything API"
   ]
  },
  {
   "cell_type": "code",
   "execution_count": 12,
   "metadata": {},
   "outputs": [],
   "source": [
    "import requests\n",
    "from xml.etree import ElementTree"
   ]
  },
  {
   "cell_type": "code",
   "execution_count": 13,
   "metadata": {},
   "outputs": [],
   "source": [
    "url = 'http://www.librarything.com/services/rest/1.1/?method=librarything.ck.getwork&isbn=0061238961&apikey=41bb5b71c8a2f27ea438d764e20520b4'"
   ]
  },
  {
   "cell_type": "code",
   "execution_count": 14,
   "metadata": {},
   "outputs": [],
   "source": [
    "response = requests.get(url).content"
   ]
  },
  {
   "cell_type": "code",
   "execution_count": 15,
   "metadata": {
    "scrolled": true
   },
   "outputs": [],
   "source": [
    "#response"
   ]
  },
  {
   "cell_type": "code",
   "execution_count": 16,
   "metadata": {},
   "outputs": [],
   "source": [
    "#tree = ElementTree.fromstring(response)"
   ]
  },
  {
   "cell_type": "code",
   "execution_count": 17,
   "metadata": {},
   "outputs": [],
   "source": [
    "import xmltodict"
   ]
  },
  {
   "cell_type": "code",
   "execution_count": 18,
   "metadata": {
    "scrolled": false
   },
   "outputs": [],
   "source": [
    "librarything_books_api = xmltodict.parse(response)"
   ]
  },
  {
   "cell_type": "code",
   "execution_count": 23,
   "metadata": {},
   "outputs": [
    {
     "data": {
      "text/plain": [
       "OrderedDict([('fieldList',\n",
       "              OrderedDict([('field',\n",
       "                            [OrderedDict([('@type', '4'),\n",
       "                                          ('@name', 'awards'),\n",
       "                                          ('@displayName',\n",
       "                                           'Awards and honors'),\n",
       "                                          ('versionList',\n",
       "                                           OrderedDict([('version',\n",
       "                                                         OrderedDict([('@id',\n",
       "                                                                       '9570568'),\n",
       "                                                                      ('@archived',\n",
       "                                                                       '0'),\n",
       "                                                                      ('@lang',\n",
       "                                                                       'eng'),\n",
       "                                                                      ('date',\n",
       "                                                                       OrderedDict([('@timestamp',\n",
       "                                                                                     '1475052492'),\n",
       "                                                                                    ('#text',\n",
       "                                                                                     'Wed, 28 Sep 2016 04:48:12 -0400')])),\n",
       "                                                                      ('person',\n",
       "                                                                       OrderedDict([('@id',\n",
       "                                                                                     '120385'),\n",
       "                                                                                    ('name',\n",
       "                                                                                     'davidgn'),\n",
       "                                                                                    ('url',\n",
       "                                                                                     'http://www.librarything.com/profile/davidgn')])),\n",
       "                                                                      ('factList',\n",
       "                                                                       OrderedDict([('fact',\n",
       "                                                                                     'TLA Tayshas High School Reading List (2007)')]))]))]))]),\n",
       "                             OrderedDict([('@type', '23'),\n",
       "                                          ('@name', 'series'),\n",
       "                                          ('@displayName', 'Series'),\n",
       "                                          ('versionList',\n",
       "                                           OrderedDict([('version',\n",
       "                                                         OrderedDict([('@id',\n",
       "                                                                       '9570567'),\n",
       "                                                                      ('@archived',\n",
       "                                                                       '0'),\n",
       "                                                                      ('@lang',\n",
       "                                                                       'eng'),\n",
       "                                                                      ('date',\n",
       "                                                                       OrderedDict([('@timestamp',\n",
       "                                                                                     '1475052492'),\n",
       "                                                                                    ('#text',\n",
       "                                                                                     'Wed, 28 Sep 2016 04:48:12 -0400')])),\n",
       "                                                                      ('person',\n",
       "                                                                       OrderedDict([('@id',\n",
       "                                                                                     '305090'),\n",
       "                                                                                    ('name',\n",
       "                                                                                     'TerenceHearsay'),\n",
       "                                                                                    ('url',\n",
       "                                                                                     'http://www.librarything.com/profile/TerenceHearsay')])),\n",
       "                                                                      ('factList',\n",
       "                                                                       OrderedDict([('fact',\n",
       "                                                                                     'InterWorld (1)')]))]))]))]),\n",
       "                             OrderedDict([('@type', '41'),\n",
       "                                          ('@name', 'originaltitle'),\n",
       "                                          ('@displayName', 'Original title'),\n",
       "                                          ('versionList',\n",
       "                                           OrderedDict([('version',\n",
       "                                                         OrderedDict([('@id',\n",
       "                                                                       '9570565'),\n",
       "                                                                      ('@archived',\n",
       "                                                                       '0'),\n",
       "                                                                      ('@lang',\n",
       "                                                                       'eng'),\n",
       "                                                                      ('date',\n",
       "                                                                       OrderedDict([('@timestamp',\n",
       "                                                                                     '1475052492'),\n",
       "                                                                                    ('#text',\n",
       "                                                                                     'Wed, 28 Sep 2016 04:48:12 -0400')])),\n",
       "                                                                      ('person',\n",
       "                                                                       OrderedDict([('@id',\n",
       "                                                                                     '1330051'),\n",
       "                                                                                    ('name',\n",
       "                                                                                     'Pigletto'),\n",
       "                                                                                    ('url',\n",
       "                                                                                     'http://www.librarything.com/profile/Pigletto')])),\n",
       "                                                                      ('factList',\n",
       "                                                                       OrderedDict([('fact',\n",
       "                                                                                     'Interworld')]))]))]))]),\n",
       "                             OrderedDict([('@type', '21'),\n",
       "                                          ('@name', 'canonicaltitle'),\n",
       "                                          ('@displayName', 'Canonical title'),\n",
       "                                          ('versionList',\n",
       "                                           OrderedDict([('version',\n",
       "                                                         OrderedDict([('@id',\n",
       "                                                                       '9570558'),\n",
       "                                                                      ('@archived',\n",
       "                                                                       '0'),\n",
       "                                                                      ('@lang',\n",
       "                                                                       'eng'),\n",
       "                                                                      ('date',\n",
       "                                                                       OrderedDict([('@timestamp',\n",
       "                                                                                     '1475052491'),\n",
       "                                                                                    ('#text',\n",
       "                                                                                     'Wed, 28 Sep 2016 04:48:11 -0400')])),\n",
       "                                                                      ('person',\n",
       "                                                                       OrderedDict([('@id',\n",
       "                                                                                     '57581'),\n",
       "                                                                                    ('name',\n",
       "                                                                                     'Wova4'),\n",
       "                                                                                    ('url',\n",
       "                                                                                     'http://www.librarything.com/profile/Wova4')])),\n",
       "                                                                      ('factList',\n",
       "                                                                       OrderedDict([('fact',\n",
       "                                                                                     'InterWorld')]))]))]))]),\n",
       "                             OrderedDict([('@type', '30'),\n",
       "                                          ('@name', 'dedication'),\n",
       "                                          ('@displayName', 'Dedication'),\n",
       "                                          ('versionList',\n",
       "                                           OrderedDict([('version',\n",
       "                                                         OrderedDict([('@id',\n",
       "                                                                       '9570555'),\n",
       "                                                                      ('@archived',\n",
       "                                                                       '0'),\n",
       "                                                                      ('@lang',\n",
       "                                                                       'eng'),\n",
       "                                                                      ('date',\n",
       "                                                                       OrderedDict([('@timestamp',\n",
       "                                                                                     '1475052491'),\n",
       "                                                                                    ('#text',\n",
       "                                                                                     'Wed, 28 Sep 2016 04:48:11 -0400')])),\n",
       "                                                                      ('person',\n",
       "                                                                       OrderedDict([('@id',\n",
       "                                                                                     '357526'),\n",
       "                                                                                    ('name',\n",
       "                                                                                     'InfoQuest'),\n",
       "                                                                                    ('url',\n",
       "                                                                                     'http://www.librarything.com/profile/InfoQuest')])),\n",
       "                                                                      ('factList',\n",
       "                                                                       OrderedDict([('fact',\n",
       "                                                                                     '![CDATA[ Neil would like to dedicate this book to his son Mike, who read the manuscript and liked it and encouraged us, and always asked when he was going to be able to read it in a real book.\\nMichael would like to dedicate this book to Steve Saffel. ]]>')]))]))]))]),\n",
       "                             OrderedDict([('@type', '26'),\n",
       "                                          ('@name', 'lastwords'),\n",
       "                                          ('@displayName', 'Last words'),\n",
       "                                          ('versionList',\n",
       "                                           OrderedDict([('version',\n",
       "                                                         OrderedDict([('@id',\n",
       "                                                                       '9570551'),\n",
       "                                                                      ('@archived',\n",
       "                                                                       '0'),\n",
       "                                                                      ('@lang',\n",
       "                                                                       'eng'),\n",
       "                                                                      ('date',\n",
       "                                                                       OrderedDict([('@timestamp',\n",
       "                                                                                     '1475052491'),\n",
       "                                                                                    ('#text',\n",
       "                                                                                     'Wed, 28 Sep 2016 04:48:11 -0400')])),\n",
       "                                                                      ('person',\n",
       "                                                                       OrderedDict([('@id',\n",
       "                                                                                     '200044'),\n",
       "                                                                                    ('name',\n",
       "                                                                                     'herebebooks'),\n",
       "                                                                                    ('url',\n",
       "                                                                                     'http://www.librarything.com/profile/herebebooks')])),\n",
       "                                                                      ('factList',\n",
       "                                                                       OrderedDict([('fact',\n",
       "                                                                                     '![CDATA[ We Walked. ]]>')]))]))]))]),\n",
       "                             OrderedDict([('@type', '25'),\n",
       "                                          ('@name', 'firstwords'),\n",
       "                                          ('@displayName', 'First words'),\n",
       "                                          ('versionList',\n",
       "                                           OrderedDict([('version',\n",
       "                                                         OrderedDict([('@id',\n",
       "                                                                       '9570550'),\n",
       "                                                                      ('@archived',\n",
       "                                                                       '0'),\n",
       "                                                                      ('@lang',\n",
       "                                                                       'eng'),\n",
       "                                                                      ('date',\n",
       "                                                                       OrderedDict([('@timestamp',\n",
       "                                                                                     '1475052491'),\n",
       "                                                                                    ('#text',\n",
       "                                                                                     'Wed, 28 Sep 2016 04:48:11 -0400')])),\n",
       "                                                                      ('person',\n",
       "                                                                       OrderedDict([('@id',\n",
       "                                                                                     '744586'),\n",
       "                                                                                    ('name',\n",
       "                                                                                     'Patangel'),\n",
       "                                                                                    ('url',\n",
       "                                                                                     'http://www.librarything.com/profile/Patangel')])),\n",
       "                                                                      ('factList',\n",
       "                                                                       OrderedDict([('fact',\n",
       "                                                                                     '![CDATA[ Once I got lost in my own house. ]]>')]))]))]))]),\n",
       "                             OrderedDict([('@type', '16'),\n",
       "                                          ('@name', 'originalpublicationdate'),\n",
       "                                          ('@displayName',\n",
       "                                           'Original publication date'),\n",
       "                                          ('versionList',\n",
       "                                           OrderedDict([('version',\n",
       "                                                         OrderedDict([('@id',\n",
       "                                                                       '9570546'),\n",
       "                                                                      ('@archived',\n",
       "                                                                       '0'),\n",
       "                                                                      ('@lang',\n",
       "                                                                       'eng'),\n",
       "                                                                      ('date',\n",
       "                                                                       OrderedDict([('@timestamp',\n",
       "                                                                                     '1475052491'),\n",
       "                                                                                    ('#text',\n",
       "                                                                                     'Wed, 28 Sep 2016 04:48:11 -0400')])),\n",
       "                                                                      ('person',\n",
       "                                                                       OrderedDict([('@id',\n",
       "                                                                                     '224869'),\n",
       "                                                                                    ('name',\n",
       "                                                                                     'ElizaJane'),\n",
       "                                                                                    ('url',\n",
       "                                                                                     'http://www.librarything.com/profile/ElizaJane')])),\n",
       "                                                                      ('factList',\n",
       "                                                                       OrderedDict([('fact',\n",
       "                                                                                     '2007')]))]))]))]),\n",
       "                             OrderedDict([('@type', '3'),\n",
       "                                          ('@name', 'characternames'),\n",
       "                                          ('@displayName',\n",
       "                                           'People/Characters'),\n",
       "                                          ('versionList',\n",
       "                                           OrderedDict([('version',\n",
       "                                                         OrderedDict([('@id',\n",
       "                                                                       '9570543'),\n",
       "                                                                      ('@archived',\n",
       "                                                                       '0'),\n",
       "                                                                      ('@lang',\n",
       "                                                                       'eng'),\n",
       "                                                                      ('date',\n",
       "                                                                       OrderedDict([('@timestamp',\n",
       "                                                                                     '1475052491'),\n",
       "                                                                                    ('#text',\n",
       "                                                                                     'Wed, 28 Sep 2016 04:48:11 -0400')])),\n",
       "                                                                      ('person',\n",
       "                                                                       OrderedDict([('@id',\n",
       "                                                                                     '120509'),\n",
       "                                                                                    ('name',\n",
       "                                                                                     'ghilbrae'),\n",
       "                                                                                    ('url',\n",
       "                                                                                     'http://www.librarything.com/profile/ghilbrae')])),\n",
       "                                                                      ('factList',\n",
       "                                                                       OrderedDict([('fact',\n",
       "                                                                                     ['Joseph Harker (Joey)',\n",
       "                                                                                      'Lady Indigo',\n",
       "                                                                                      'Lord Dogknife',\n",
       "                                                                                      'Hue'])]))]))]))]),\n",
       "                             OrderedDict([('@type', '2'),\n",
       "                                          ('@name', 'placesmentioned'),\n",
       "                                          ('@displayName', 'Important places'),\n",
       "                                          ('versionList',\n",
       "                                           OrderedDict([('version',\n",
       "                                                         OrderedDict([('@id',\n",
       "                                                                       '9570541'),\n",
       "                                                                      ('@archived',\n",
       "                                                                       '0'),\n",
       "                                                                      ('@lang',\n",
       "                                                                       'eng'),\n",
       "                                                                      ('date',\n",
       "                                                                       OrderedDict([('@timestamp',\n",
       "                                                                                     '1475052491'),\n",
       "                                                                                    ('#text',\n",
       "                                                                                     'Wed, 28 Sep 2016 04:48:11 -0400')])),\n",
       "                                                                      ('person',\n",
       "                                                                       OrderedDict([('@id',\n",
       "                                                                                     '8334'),\n",
       "                                                                                    ('name',\n",
       "                                                                                     'lampbane'),\n",
       "                                                                                    ('url',\n",
       "                                                                                     'http://www.librarything.com/profile/lampbane')])),\n",
       "                                                                      ('factList',\n",
       "                                                                       OrderedDict([('fact',\n",
       "                                                                                     'InterWorld')]))]))]))])])]))])"
      ]
     },
     "execution_count": 23,
     "metadata": {},
     "output_type": "execute_result"
    }
   ],
   "source": [
    "librarything_books_api['response']['ltml']['item']['commonknowledge']"
   ]
  },
  {
   "cell_type": "markdown",
   "metadata": {},
   "source": [
    "### Get book information from API for each book in dataset"
   ]
  },
  {
   "cell_type": "markdown",
   "metadata": {},
   "source": [
    "##### This shit could take awhile "
   ]
  },
  {
   "cell_type": "code",
   "execution_count": 91,
   "metadata": {},
   "outputs": [],
   "source": [
    "#----------------------- Get API -----------------------------------------------------------------------\n",
    "\n",
    "#import time\n",
    "\n",
    "#books_api = books['bookID'].apply(lambda x: client.Book.show(x), time.sleep(2))"
   ]
  },
  {
   "cell_type": "code",
   "execution_count": 92,
   "metadata": {},
   "outputs": [],
   "source": [
    "# result of this \"get API shit\" is a dataframe which every row is a object contain each book API in dict form"
   ]
  },
  {
   "cell_type": "markdown",
   "metadata": {},
   "source": [
    "### Save API data in pickle"
   ]
  },
  {
   "cell_type": "code",
   "execution_count": 93,
   "metadata": {},
   "outputs": [],
   "source": [
    "import pickle"
   ]
  },
  {
   "cell_type": "code",
   "execution_count": 94,
   "metadata": {},
   "outputs": [],
   "source": [
    "#f = open('./saved file/books_api.pckl','wb')\n",
    "#pickle.dump(books_api,f)\n",
    "#f.close()"
   ]
  },
  {
   "cell_type": "markdown",
   "metadata": {},
   "source": [
    "### Load API data"
   ]
  },
  {
   "cell_type": "code",
   "execution_count": 95,
   "metadata": {},
   "outputs": [],
   "source": [
    "f = open('./saved file/books_api.pckl','rb')\n",
    "books_api = pickle.load(f)\n",
    "f.close()"
   ]
  },
  {
   "cell_type": "code",
   "execution_count": 96,
   "metadata": {},
   "outputs": [
    {
     "data": {
      "text/plain": [
       "0       {'id': '1', 'title': 'Harry Potter and the Hal...\n",
       "1       {'id': '2', 'title': 'Harry Potter and the Ord...\n",
       "2       {'id': '3', 'title': 'Harry Potter and the Sor...\n",
       "3       {'id': '5', 'title': 'Harry Potter and the Pri...\n",
       "4       {'id': '8', 'title': 'Harry Potter Boxed Set, ...\n",
       "                              ...                        \n",
       "2738    {'id': '47693', 'title': 'The Day I Swapped My...\n",
       "2739    {'id': '47697', 'title': 'The Sandman: King of...\n",
       "2740    {'id': '47699', 'title': 'M Is for Magic', 'is...\n",
       "2741    {'id': '47700', 'title': 'Black Orchid', 'isbn...\n",
       "2742    {'id': '47701', 'title': 'InterWorld (InterWor...\n",
       "Name: bookID, Length: 2743, dtype: object"
      ]
     },
     "execution_count": 96,
     "metadata": {},
     "output_type": "execute_result"
    }
   ],
   "source": [
    "books_api"
   ]
  },
  {
   "cell_type": "markdown",
   "metadata": {},
   "source": [
    "### Get information"
   ]
  },
  {
   "cell_type": "markdown",
   "metadata": {},
   "source": [
    "#### Get Book Format"
   ]
  },
  {
   "cell_type": "code",
   "execution_count": 97,
   "metadata": {},
   "outputs": [],
   "source": [
    "book_formats = []\n",
    "\n",
    "for i in books_api:\n",
    "    book_formats.append(i['format'])"
   ]
  },
  {
   "cell_type": "code",
   "execution_count": 98,
   "metadata": {},
   "outputs": [],
   "source": [
    "books['format'] = book_formats"
   ]
  },
  {
   "cell_type": "markdown",
   "metadata": {},
   "source": [
    "#### Get books description"
   ]
  },
  {
   "cell_type": "code",
   "execution_count": 99,
   "metadata": {},
   "outputs": [],
   "source": [
    "descriptions = []\n",
    "\n",
    "for i in books_api:\n",
    "    descriptions.append(i['description'])"
   ]
  },
  {
   "cell_type": "code",
   "execution_count": 100,
   "metadata": {
    "scrolled": true
   },
   "outputs": [],
   "source": [
    "books['description'] = descriptions"
   ]
  },
  {
   "cell_type": "markdown",
   "metadata": {},
   "source": [
    "#### Get Book Images"
   ]
  },
  {
   "cell_type": "code",
   "execution_count": 101,
   "metadata": {},
   "outputs": [],
   "source": [
    "images = []\n",
    "\n",
    "for i in books_api:\n",
    "    image = i['image_url']\n",
    "    image = image.replace(\"._SX98_\",\"\")\n",
    "    images.append(image)    "
   ]
  },
  {
   "cell_type": "code",
   "execution_count": 102,
   "metadata": {},
   "outputs": [],
   "source": [
    "books['image'] = images"
   ]
  },
  {
   "cell_type": "markdown",
   "metadata": {},
   "source": [
    "#### Get publisher "
   ]
  },
  {
   "cell_type": "code",
   "execution_count": 103,
   "metadata": {},
   "outputs": [],
   "source": [
    "publishers = []\n",
    "\n",
    "for i in books_api:\n",
    "    publishers.append(i['publisher'])"
   ]
  },
  {
   "cell_type": "code",
   "execution_count": 104,
   "metadata": {},
   "outputs": [],
   "source": [
    "books['publisher'] = publishers"
   ]
  },
  {
   "cell_type": "markdown",
   "metadata": {},
   "source": [
    "#### Get Published Day"
   ]
  },
  {
   "cell_type": "code",
   "execution_count": 105,
   "metadata": {},
   "outputs": [],
   "source": [
    "publication_days = []\n",
    "publication_months = []\n",
    "publication_years = []\n",
    "\n",
    "for i in books_api:\n",
    "    publication_days.append(i['publication_day'])\n",
    "    publication_months.append(i['publication_month'])\n",
    "    publication_years.append(i['publication_year'])"
   ]
  },
  {
   "cell_type": "code",
   "execution_count": 106,
   "metadata": {},
   "outputs": [],
   "source": [
    "books['publication_day'] = publication_days\n",
    "books['publication_month'] = publication_months\n",
    "books['publication_year'] = publication_years"
   ]
  },
  {
   "cell_type": "code",
   "execution_count": 107,
   "metadata": {},
   "outputs": [
    {
     "data": {
      "text/html": [
       "<div>\n",
       "<style scoped>\n",
       "    .dataframe tbody tr th:only-of-type {\n",
       "        vertical-align: middle;\n",
       "    }\n",
       "\n",
       "    .dataframe tbody tr th {\n",
       "        vertical-align: top;\n",
       "    }\n",
       "\n",
       "    .dataframe thead th {\n",
       "        text-align: right;\n",
       "    }\n",
       "</style>\n",
       "<table border=\"1\" class=\"dataframe\">\n",
       "  <thead>\n",
       "    <tr style=\"text-align: right;\">\n",
       "      <th></th>\n",
       "      <th>title</th>\n",
       "      <th>page_number</th>\n",
       "      <th>format</th>\n",
       "      <th>description</th>\n",
       "      <th>image</th>\n",
       "      <th>publisher</th>\n",
       "      <th>publication_day</th>\n",
       "      <th>publication_month</th>\n",
       "      <th>publication_year</th>\n",
       "    </tr>\n",
       "  </thead>\n",
       "  <tbody>\n",
       "    <tr>\n",
       "      <th>0</th>\n",
       "      <td>Harry Potter and the Half-Blood Prince (Harry ...</td>\n",
       "      <td>652</td>\n",
       "      <td>Paperback</td>\n",
       "      <td>When Harry Potter and the Half-Blood Prince op...</td>\n",
       "      <td>https://i.gr-assets.com/images/S/compressed.ph...</td>\n",
       "      <td>Scholastic Inc.</td>\n",
       "      <td>16</td>\n",
       "      <td>9</td>\n",
       "      <td>2006</td>\n",
       "    </tr>\n",
       "    <tr>\n",
       "      <th>1</th>\n",
       "      <td>Harry Potter and the Order of the Phoenix (Har...</td>\n",
       "      <td>870</td>\n",
       "      <td>Paperback</td>\n",
       "      <td>There is a door at the end of a silent corrido...</td>\n",
       "      <td>https://i.gr-assets.com/images/S/compressed.ph...</td>\n",
       "      <td>Scholastic Inc.</td>\n",
       "      <td>1</td>\n",
       "      <td>9</td>\n",
       "      <td>2004</td>\n",
       "    </tr>\n",
       "    <tr>\n",
       "      <th>2</th>\n",
       "      <td>Harry Potter and the Sorcerer's Stone (Harry P...</td>\n",
       "      <td>320</td>\n",
       "      <td>Hardcover</td>\n",
       "      <td>Alternate cover edition of ISBN 9780439554930&lt;...</td>\n",
       "      <td>https://i.gr-assets.com/images/S/compressed.ph...</td>\n",
       "      <td>Scholastic Inc</td>\n",
       "      <td>26</td>\n",
       "      <td>6</td>\n",
       "      <td>1997</td>\n",
       "    </tr>\n",
       "    <tr>\n",
       "      <th>3</th>\n",
       "      <td>Harry Potter and the Prisoner of Azkaban (Harr...</td>\n",
       "      <td>435</td>\n",
       "      <td>Mass Market Paperback</td>\n",
       "      <td>Harry Potter's third year at Hogwarts is full ...</td>\n",
       "      <td>https://i.gr-assets.com/images/S/compressed.ph...</td>\n",
       "      <td>Scholastic Inc.</td>\n",
       "      <td>1</td>\n",
       "      <td>5</td>\n",
       "      <td>2004</td>\n",
       "    </tr>\n",
       "    <tr>\n",
       "      <th>4</th>\n",
       "      <td>Harry Potter Boxed Set  Books 1-5 (Harry Potte...</td>\n",
       "      <td>2690</td>\n",
       "      <td>Paperback</td>\n",
       "      <td>Box Set containing Harry Potter and the Sorcer...</td>\n",
       "      <td>https://s.gr-assets.com/assets/nophoto/book/11...</td>\n",
       "      <td>Scholastic</td>\n",
       "      <td>13</td>\n",
       "      <td>9</td>\n",
       "      <td>2004</td>\n",
       "    </tr>\n",
       "    <tr>\n",
       "      <th>...</th>\n",
       "      <td>...</td>\n",
       "      <td>...</td>\n",
       "      <td>...</td>\n",
       "      <td>...</td>\n",
       "      <td>...</td>\n",
       "      <td>...</td>\n",
       "      <td>...</td>\n",
       "      <td>...</td>\n",
       "      <td>...</td>\n",
       "    </tr>\n",
       "    <tr>\n",
       "      <th>2738</th>\n",
       "      <td>The Day I Swapped My Dad for Two Goldfish</td>\n",
       "      <td>64</td>\n",
       "      <td>Hardcover</td>\n",
       "      <td>&lt;blockquote&gt;\"I'll swap you my dad,\" I said. &lt;b...</td>\n",
       "      <td>https://s.gr-assets.com/assets/nophoto/book/11...</td>\n",
       "      <td>HarperCollins</td>\n",
       "      <td>31</td>\n",
       "      <td>8</td>\n",
       "      <td>2004</td>\n",
       "    </tr>\n",
       "    <tr>\n",
       "      <th>2739</th>\n",
       "      <td>The Sandman: King of Dreams</td>\n",
       "      <td>180</td>\n",
       "      <td>Hardcover</td>\n",
       "      <td>The first and only comic book to receive the W...</td>\n",
       "      <td>https://s.gr-assets.com/assets/nophoto/book/11...</td>\n",
       "      <td>Chronicle Books</td>\n",
       "      <td>1</td>\n",
       "      <td>9</td>\n",
       "      <td>2003</td>\n",
       "    </tr>\n",
       "    <tr>\n",
       "      <th>2740</th>\n",
       "      <td>M Is for Magic</td>\n",
       "      <td>260</td>\n",
       "      <td>None</td>\n",
       "      <td>Stories to delight, enchant, and surprise you....</td>\n",
       "      <td>https://i.gr-assets.com/images/S/compressed.ph...</td>\n",
       "      <td>None</td>\n",
       "      <td>None</td>\n",
       "      <td>None</td>\n",
       "      <td>None</td>\n",
       "    </tr>\n",
       "    <tr>\n",
       "      <th>2741</th>\n",
       "      <td>Black Orchid</td>\n",
       "      <td>160</td>\n",
       "      <td>Paperback</td>\n",
       "      <td>By the acclaimed writer of THE SANDMAN LIBRARY...</td>\n",
       "      <td>https://i.gr-assets.com/images/S/compressed.ph...</td>\n",
       "      <td>DC Comics</td>\n",
       "      <td>1</td>\n",
       "      <td>9</td>\n",
       "      <td>1991</td>\n",
       "    </tr>\n",
       "    <tr>\n",
       "      <th>2742</th>\n",
       "      <td>InterWorld (InterWorld  #1)</td>\n",
       "      <td>239</td>\n",
       "      <td>Hardcover</td>\n",
       "      <td>When Newbery Medal winner Neil Gaiman and Emmy...</td>\n",
       "      <td>https://s.gr-assets.com/assets/nophoto/book/11...</td>\n",
       "      <td>HarperCollins</td>\n",
       "      <td>26</td>\n",
       "      <td>6</td>\n",
       "      <td>2007</td>\n",
       "    </tr>\n",
       "  </tbody>\n",
       "</table>\n",
       "<p>2743 rows × 9 columns</p>\n",
       "</div>"
      ],
      "text/plain": [
       "                                                  title  page_number  \\\n",
       "0     Harry Potter and the Half-Blood Prince (Harry ...          652   \n",
       "1     Harry Potter and the Order of the Phoenix (Har...          870   \n",
       "2     Harry Potter and the Sorcerer's Stone (Harry P...          320   \n",
       "3     Harry Potter and the Prisoner of Azkaban (Harr...          435   \n",
       "4     Harry Potter Boxed Set  Books 1-5 (Harry Potte...         2690   \n",
       "...                                                 ...          ...   \n",
       "2738          The Day I Swapped My Dad for Two Goldfish           64   \n",
       "2739                        The Sandman: King of Dreams          180   \n",
       "2740                                     M Is for Magic          260   \n",
       "2741                                       Black Orchid          160   \n",
       "2742                        InterWorld (InterWorld  #1)          239   \n",
       "\n",
       "                     format  \\\n",
       "0                 Paperback   \n",
       "1                 Paperback   \n",
       "2                 Hardcover   \n",
       "3     Mass Market Paperback   \n",
       "4                 Paperback   \n",
       "...                     ...   \n",
       "2738              Hardcover   \n",
       "2739              Hardcover   \n",
       "2740                   None   \n",
       "2741              Paperback   \n",
       "2742              Hardcover   \n",
       "\n",
       "                                            description  \\\n",
       "0     When Harry Potter and the Half-Blood Prince op...   \n",
       "1     There is a door at the end of a silent corrido...   \n",
       "2     Alternate cover edition of ISBN 9780439554930<...   \n",
       "3     Harry Potter's third year at Hogwarts is full ...   \n",
       "4     Box Set containing Harry Potter and the Sorcer...   \n",
       "...                                                 ...   \n",
       "2738  <blockquote>\"I'll swap you my dad,\" I said. <b...   \n",
       "2739  The first and only comic book to receive the W...   \n",
       "2740  Stories to delight, enchant, and surprise you....   \n",
       "2741  By the acclaimed writer of THE SANDMAN LIBRARY...   \n",
       "2742  When Newbery Medal winner Neil Gaiman and Emmy...   \n",
       "\n",
       "                                                  image        publisher  \\\n",
       "0     https://i.gr-assets.com/images/S/compressed.ph...  Scholastic Inc.   \n",
       "1     https://i.gr-assets.com/images/S/compressed.ph...  Scholastic Inc.   \n",
       "2     https://i.gr-assets.com/images/S/compressed.ph...   Scholastic Inc   \n",
       "3     https://i.gr-assets.com/images/S/compressed.ph...  Scholastic Inc.   \n",
       "4     https://s.gr-assets.com/assets/nophoto/book/11...       Scholastic   \n",
       "...                                                 ...              ...   \n",
       "2738  https://s.gr-assets.com/assets/nophoto/book/11...    HarperCollins   \n",
       "2739  https://s.gr-assets.com/assets/nophoto/book/11...  Chronicle Books   \n",
       "2740  https://i.gr-assets.com/images/S/compressed.ph...             None   \n",
       "2741  https://i.gr-assets.com/images/S/compressed.ph...        DC Comics   \n",
       "2742  https://s.gr-assets.com/assets/nophoto/book/11...    HarperCollins   \n",
       "\n",
       "     publication_day publication_month publication_year  \n",
       "0                 16                 9             2006  \n",
       "1                  1                 9             2004  \n",
       "2                 26                 6             1997  \n",
       "3                  1                 5             2004  \n",
       "4                 13                 9             2004  \n",
       "...              ...               ...              ...  \n",
       "2738              31                 8             2004  \n",
       "2739               1                 9             2003  \n",
       "2740            None              None             None  \n",
       "2741               1                 9             1991  \n",
       "2742              26                 6             2007  \n",
       "\n",
       "[2743 rows x 9 columns]"
      ]
     },
     "execution_count": 107,
     "metadata": {},
     "output_type": "execute_result"
    }
   ],
   "source": [
    "books"
   ]
  },
  {
   "cell_type": "markdown",
   "metadata": {},
   "source": [
    "#### Get Authors"
   ]
  },
  {
   "cell_type": "code",
   "execution_count": 108,
   "metadata": {},
   "outputs": [],
   "source": [
    "#if type(books_api[0]['authors']['author']) == list: print(\"True\")"
   ]
  },
  {
   "cell_type": "markdown",
   "metadata": {},
   "source": [
    "##### Book Author API Example"
   ]
  },
  {
   "cell_type": "code",
   "execution_count": 131,
   "metadata": {
    "scrolled": true
   },
   "outputs": [],
   "source": [
    "#books_api[381]['authors']['author']"
   ]
  },
  {
   "cell_type": "markdown",
   "metadata": {},
   "source": [
    "##### Get List Of Author"
   ]
  },
  {
   "cell_type": "markdown",
   "metadata": {},
   "source": [
    "###### From Book API Get Author Name And Author Goodread API"
   ]
  },
  {
   "cell_type": "code",
   "execution_count": 110,
   "metadata": {},
   "outputs": [],
   "source": [
    "author_goodread_ids = pd.DataFrame(columns = ['name','author_goodread_ID'])"
   ]
  },
  {
   "cell_type": "code",
   "execution_count": 111,
   "metadata": {},
   "outputs": [],
   "source": [
    "for i in books_api:\n",
    "    try:\n",
    "        for j in i['authors']['author']:\n",
    "            author_goodread_ids = author_goodread_ids.append({'name':j['name'] , 'author_goodread_ID':j['id']}, ignore_index = True)\n",
    "    except:\n",
    "        j = i['authors']['author']\n",
    "        author_goodread_ids = author_goodread_ids.append({'name':j['name'] , 'author_goodread_ID':j['id']}, ignore_index = True) "
   ]
  },
  {
   "cell_type": "code",
   "execution_count": 112,
   "metadata": {},
   "outputs": [
    {
     "data": {
      "text/html": [
       "<div>\n",
       "<style scoped>\n",
       "    .dataframe tbody tr th:only-of-type {\n",
       "        vertical-align: middle;\n",
       "    }\n",
       "\n",
       "    .dataframe tbody tr th {\n",
       "        vertical-align: top;\n",
       "    }\n",
       "\n",
       "    .dataframe thead th {\n",
       "        text-align: right;\n",
       "    }\n",
       "</style>\n",
       "<table border=\"1\" class=\"dataframe\">\n",
       "  <thead>\n",
       "    <tr style=\"text-align: right;\">\n",
       "      <th></th>\n",
       "      <th>name</th>\n",
       "      <th>author_goodread_ID</th>\n",
       "    </tr>\n",
       "  </thead>\n",
       "  <tbody>\n",
       "    <tr>\n",
       "      <th>0</th>\n",
       "      <td>J.K. Rowling</td>\n",
       "      <td>1077326</td>\n",
       "    </tr>\n",
       "    <tr>\n",
       "      <th>1</th>\n",
       "      <td>Mary GrandPré</td>\n",
       "      <td>2927</td>\n",
       "    </tr>\n",
       "    <tr>\n",
       "      <th>2</th>\n",
       "      <td>J.K. Rowling</td>\n",
       "      <td>1077326</td>\n",
       "    </tr>\n",
       "    <tr>\n",
       "      <th>3</th>\n",
       "      <td>Mary GrandPré</td>\n",
       "      <td>2927</td>\n",
       "    </tr>\n",
       "    <tr>\n",
       "      <th>4</th>\n",
       "      <td>J.K. Rowling</td>\n",
       "      <td>1077326</td>\n",
       "    </tr>\n",
       "    <tr>\n",
       "      <th>...</th>\n",
       "      <td>...</td>\n",
       "      <td>...</td>\n",
       "    </tr>\n",
       "    <tr>\n",
       "      <th>4029</th>\n",
       "      <td>Teddy Kristiansen</td>\n",
       "      <td>188344</td>\n",
       "    </tr>\n",
       "    <tr>\n",
       "      <th>4030</th>\n",
       "      <td>Neil Gaiman</td>\n",
       "      <td>1221698</td>\n",
       "    </tr>\n",
       "    <tr>\n",
       "      <th>4031</th>\n",
       "      <td>Dave McKean</td>\n",
       "      <td>10365</td>\n",
       "    </tr>\n",
       "    <tr>\n",
       "      <th>4032</th>\n",
       "      <td>Neil Gaiman</td>\n",
       "      <td>1221698</td>\n",
       "    </tr>\n",
       "    <tr>\n",
       "      <th>4033</th>\n",
       "      <td>Michael Reaves</td>\n",
       "      <td>12537</td>\n",
       "    </tr>\n",
       "  </tbody>\n",
       "</table>\n",
       "<p>4034 rows × 2 columns</p>\n",
       "</div>"
      ],
      "text/plain": [
       "                   name author_goodread_ID\n",
       "0          J.K. Rowling            1077326\n",
       "1         Mary GrandPré               2927\n",
       "2          J.K. Rowling            1077326\n",
       "3         Mary GrandPré               2927\n",
       "4          J.K. Rowling            1077326\n",
       "...                 ...                ...\n",
       "4029  Teddy Kristiansen             188344\n",
       "4030        Neil Gaiman            1221698\n",
       "4031        Dave McKean              10365\n",
       "4032        Neil Gaiman            1221698\n",
       "4033     Michael Reaves              12537\n",
       "\n",
       "[4034 rows x 2 columns]"
      ]
     },
     "execution_count": 112,
     "metadata": {},
     "output_type": "execute_result"
    }
   ],
   "source": [
    "author_goodread_ids"
   ]
  },
  {
   "cell_type": "markdown",
   "metadata": {},
   "source": [
    "##### Drop duplicate column which have same name "
   ]
  },
  {
   "cell_type": "code",
   "execution_count": 113,
   "metadata": {},
   "outputs": [],
   "source": [
    "author_goodread_ids.drop_duplicates(subset = \"name\", inplace = True)"
   ]
  },
  {
   "cell_type": "code",
   "execution_count": 114,
   "metadata": {},
   "outputs": [],
   "source": [
    "author_goodread_ids.sort_values(\"name\", inplace = True) "
   ]
  },
  {
   "cell_type": "code",
   "execution_count": 115,
   "metadata": {},
   "outputs": [],
   "source": [
    "author_goodread_ids = author_goodread_ids.reset_index(drop = True)"
   ]
  },
  {
   "cell_type": "markdown",
   "metadata": {},
   "source": [
    "#### Result"
   ]
  },
  {
   "cell_type": "code",
   "execution_count": 116,
   "metadata": {},
   "outputs": [
    {
     "data": {
      "text/html": [
       "<div>\n",
       "<style scoped>\n",
       "    .dataframe tbody tr th:only-of-type {\n",
       "        vertical-align: middle;\n",
       "    }\n",
       "\n",
       "    .dataframe tbody tr th {\n",
       "        vertical-align: top;\n",
       "    }\n",
       "\n",
       "    .dataframe thead th {\n",
       "        text-align: right;\n",
       "    }\n",
       "</style>\n",
       "<table border=\"1\" class=\"dataframe\">\n",
       "  <thead>\n",
       "    <tr style=\"text-align: right;\">\n",
       "      <th></th>\n",
       "      <th>name</th>\n",
       "      <th>author_goodread_ID</th>\n",
       "    </tr>\n",
       "  </thead>\n",
       "  <tbody>\n",
       "    <tr>\n",
       "      <th>0</th>\n",
       "      <td>A. Roger Merrill</td>\n",
       "      <td>20376</td>\n",
       "    </tr>\n",
       "    <tr>\n",
       "      <th>1</th>\n",
       "      <td>A.J. Jacobs</td>\n",
       "      <td>963811</td>\n",
       "    </tr>\n",
       "    <tr>\n",
       "      <th>2</th>\n",
       "      <td>A.N. Roquelaure</td>\n",
       "      <td>437669</td>\n",
       "    </tr>\n",
       "    <tr>\n",
       "      <th>3</th>\n",
       "      <td>A.S. Byatt</td>\n",
       "      <td>1169504</td>\n",
       "    </tr>\n",
       "    <tr>\n",
       "      <th>4</th>\n",
       "      <td>A.V. Miller</td>\n",
       "      <td>6185</td>\n",
       "    </tr>\n",
       "    <tr>\n",
       "      <th>...</th>\n",
       "      <td>...</td>\n",
       "      <td>...</td>\n",
       "    </tr>\n",
       "    <tr>\n",
       "      <th>1970</th>\n",
       "      <td>ג'וזף קונרד</td>\n",
       "      <td>19653042</td>\n",
       "    </tr>\n",
       "    <tr>\n",
       "      <th>1971</th>\n",
       "      <td>جبران خليل جبران</td>\n",
       "      <td>17888244</td>\n",
       "    </tr>\n",
       "    <tr>\n",
       "      <th>1972</th>\n",
       "      <td>محمدعلی مهمان‌نوازان</td>\n",
       "      <td>15457599</td>\n",
       "    </tr>\n",
       "    <tr>\n",
       "      <th>1973</th>\n",
       "      <td>مریم کاظمی‌تبار</td>\n",
       "      <td>19311388</td>\n",
       "    </tr>\n",
       "    <tr>\n",
       "      <th>1974</th>\n",
       "      <td>伊藤潤二</td>\n",
       "      <td>15137872</td>\n",
       "    </tr>\n",
       "  </tbody>\n",
       "</table>\n",
       "<p>1975 rows × 2 columns</p>\n",
       "</div>"
      ],
      "text/plain": [
       "                      name author_goodread_ID\n",
       "0         A. Roger Merrill              20376\n",
       "1              A.J. Jacobs             963811\n",
       "2          A.N. Roquelaure             437669\n",
       "3               A.S. Byatt            1169504\n",
       "4              A.V. Miller               6185\n",
       "...                    ...                ...\n",
       "1970           ג'וזף קונרד           19653042\n",
       "1971      جبران خليل جبران           17888244\n",
       "1972  محمدعلی مهمان‌نوازان           15457599\n",
       "1973       مریم کاظمی‌تبار           19311388\n",
       "1974                  伊藤潤二           15137872\n",
       "\n",
       "[1975 rows x 2 columns]"
      ]
     },
     "execution_count": 116,
     "metadata": {},
     "output_type": "execute_result"
    }
   ],
   "source": [
    "author_goodread_ids "
   ]
  },
  {
   "cell_type": "code",
   "execution_count": 117,
   "metadata": {},
   "outputs": [
    {
     "data": {
      "text/html": [
       "<div>\n",
       "<style scoped>\n",
       "    .dataframe tbody tr th:only-of-type {\n",
       "        vertical-align: middle;\n",
       "    }\n",
       "\n",
       "    .dataframe tbody tr th {\n",
       "        vertical-align: top;\n",
       "    }\n",
       "\n",
       "    .dataframe thead th {\n",
       "        text-align: right;\n",
       "    }\n",
       "</style>\n",
       "<table border=\"1\" class=\"dataframe\">\n",
       "  <thead>\n",
       "    <tr style=\"text-align: right;\">\n",
       "      <th></th>\n",
       "      <th>name</th>\n",
       "      <th>author_goodread_ID</th>\n",
       "    </tr>\n",
       "  </thead>\n",
       "  <tbody>\n",
       "    <tr>\n",
       "      <th>762</th>\n",
       "      <td>J.K. Rowling</td>\n",
       "      <td>1077326</td>\n",
       "    </tr>\n",
       "  </tbody>\n",
       "</table>\n",
       "</div>"
      ],
      "text/plain": [
       "             name author_goodread_ID\n",
       "762  J.K. Rowling            1077326"
      ]
     },
     "execution_count": 117,
     "metadata": {},
     "output_type": "execute_result"
    }
   ],
   "source": [
    "author_goodread_ids[author_goodread_ids['name'] == 'J.K. Rowling']"
   ]
  },
  {
   "cell_type": "code",
   "execution_count": 118,
   "metadata": {},
   "outputs": [],
   "source": [
    "#author_goodread_ids.to_csv(\"./dataset/processed_dataset/author_goodread_ids.csv\", index = False)"
   ]
  },
  {
   "cell_type": "code",
   "execution_count": 119,
   "metadata": {},
   "outputs": [],
   "source": [
    "#----------------------- Get Author API -----------------------------------------------------------------------\n",
    "\n",
    "#import time\n",
    "\n",
    "#authors_api = author_goodread_ids['author_goodread_ID'].apply(lambda x: client.Author.show(x), time.sleep(2))"
   ]
  },
  {
   "cell_type": "markdown",
   "metadata": {},
   "source": [
    "#### Save API Data In Pickle"
   ]
  },
  {
   "cell_type": "code",
   "execution_count": 120,
   "metadata": {},
   "outputs": [],
   "source": [
    "#f = open('./saved file/authors_api.pckl','wb')\n",
    "#pickle.dump(authors_api,f)\n",
    "#f.close()"
   ]
  },
  {
   "cell_type": "markdown",
   "metadata": {},
   "source": [
    "##### Load Author API Data"
   ]
  },
  {
   "cell_type": "code",
   "execution_count": 121,
   "metadata": {},
   "outputs": [],
   "source": [
    "f = open('./saved file/authors_api.pckl','rb')\n",
    "authors_api = pickle.load(f)\n",
    "f.close()"
   ]
  },
  {
   "cell_type": "markdown",
   "metadata": {},
   "source": [
    "##### Author API Example"
   ]
  },
  {
   "cell_type": "code",
   "execution_count": 133,
   "metadata": {
    "scrolled": true
   },
   "outputs": [],
   "source": [
    "#authors_api[0]"
   ]
  },
  {
   "cell_type": "markdown",
   "metadata": {},
   "source": [
    "##### Create Authors table"
   ]
  },
  {
   "cell_type": "code",
   "execution_count": 123,
   "metadata": {},
   "outputs": [],
   "source": [
    "authors = pd.DataFrame(columns = ['name','gender','hometown','born_at','died_at','about','image','influences'])"
   ]
  },
  {
   "cell_type": "code",
   "execution_count": 124,
   "metadata": {},
   "outputs": [],
   "source": [
    "for i in authors_api:\n",
    "    gender = i['gender']\n",
    "    if gender == None: gender = 'unknown'\n",
    "    hometown = i['hometown']\n",
    "    if hometown == None: hometown = 'unknown'\n",
    "    born_at = i['born_at']\n",
    "    if born_at == None: born_at = 'unknown'\n",
    "    died_at = i['died_at']\n",
    "    if died_at == None: died_at = 'unknown'\n",
    "    about = i['about']\n",
    "    if about == None: about = 'unknown'\n",
    "    influences = i['influences']\n",
    "    if influences == None: influences = 'unknown'\n",
    "    authors = authors.append({'name':i['name'] , 'gender':gender , 'hometown':hometown, 'born_at': born_at, 'died_at': died_at, 'about': about,'image': i['large_image_url'], 'influences': influences }, ignore_index = True)"
   ]
  },
  {
   "cell_type": "code",
   "execution_count": 125,
   "metadata": {},
   "outputs": [
    {
     "data": {
      "text/plain": [
       "name                                              Mary GrandPré\n",
       "gender                                                   female\n",
       "hometown                                           South Dakota\n",
       "born_at                                              1954/01/01\n",
       "died_at                                                 unknown\n",
       "about         Educated at the Minneapolis College of Art and...\n",
       "image         https://images.gr-assets.com/authors/139534482...\n",
       "influences                                              unknown\n",
       "Name: 1239, dtype: object"
      ]
     },
     "execution_count": 125,
     "metadata": {},
     "output_type": "execute_result"
    }
   ],
   "source": [
    "authors.loc[1239]"
   ]
  },
  {
   "cell_type": "markdown",
   "metadata": {},
   "source": [
    "##### Get Relationship Between Book And Author"
   ]
  },
  {
   "cell_type": "markdown",
   "metadata": {},
   "source": [
    "###### Get Authors Of Book "
   ]
  },
  {
   "cell_type": "code",
   "execution_count": 126,
   "metadata": {},
   "outputs": [],
   "source": [
    "indices = pd.Series(author_goodread_ids.index, index = author_goodread_ids['name'])"
   ]
  },
  {
   "cell_type": "code",
   "execution_count": 127,
   "metadata": {},
   "outputs": [
    {
     "data": {
      "text/plain": [
       "name\n",
       "A. Roger Merrill           0\n",
       "A.J. Jacobs                1\n",
       "A.N. Roquelaure            2\n",
       "A.S. Byatt                 3\n",
       "A.V. Miller                4\n",
       "                        ... \n",
       "ג'וזף קונרד             1970\n",
       "جبران خليل جبران        1971\n",
       "محمدعلی مهمان‌نوازان    1972\n",
       "مریم کاظمی‌تبار         1973\n",
       "伊藤潤二                    1974\n",
       "Length: 1975, dtype: int64"
      ]
     },
     "execution_count": 127,
     "metadata": {},
     "output_type": "execute_result"
    }
   ],
   "source": [
    "indices"
   ]
  },
  {
   "cell_type": "code",
   "execution_count": 128,
   "metadata": {},
   "outputs": [],
   "source": [
    "directors_of_book = pd.DataFrame(columns = ['bookID','authorID','role'])"
   ]
  },
  {
   "cell_type": "code",
   "execution_count": 129,
   "metadata": {},
   "outputs": [],
   "source": [
    "count = 0\n",
    "for i in books_api:\n",
    "    try:\n",
    "        for j in i['authors']['author']:\n",
    "            role = j['role']\n",
    "            if role == None: role = 'author'\n",
    "            directors_of_book = directors_of_book.append({'bookID':count , 'authorID':indices[j['name']] , 'role':role}, ignore_index = True)\n",
    "    except:\n",
    "        j = i['authors']['author']\n",
    "        role = j['role']\n",
    "        if role == None: role = 'author'\n",
    "        directors_of_book = directors_of_book.append({'bookID':count ,'authorID':indices[j['name']] , 'role':role}, ignore_index = True) \n",
    "    count+= 1 "
   ]
  },
  {
   "cell_type": "code",
   "execution_count": 130,
   "metadata": {},
   "outputs": [
    {
     "data": {
      "text/html": [
       "<div>\n",
       "<style scoped>\n",
       "    .dataframe tbody tr th:only-of-type {\n",
       "        vertical-align: middle;\n",
       "    }\n",
       "\n",
       "    .dataframe tbody tr th {\n",
       "        vertical-align: top;\n",
       "    }\n",
       "\n",
       "    .dataframe thead th {\n",
       "        text-align: right;\n",
       "    }\n",
       "</style>\n",
       "<table border=\"1\" class=\"dataframe\">\n",
       "  <thead>\n",
       "    <tr style=\"text-align: right;\">\n",
       "      <th></th>\n",
       "      <th>bookID</th>\n",
       "      <th>authorID</th>\n",
       "      <th>role</th>\n",
       "    </tr>\n",
       "  </thead>\n",
       "  <tbody>\n",
       "    <tr>\n",
       "      <th>0</th>\n",
       "      <td>0</td>\n",
       "      <td>762</td>\n",
       "      <td>author</td>\n",
       "    </tr>\n",
       "    <tr>\n",
       "      <th>1</th>\n",
       "      <td>0</td>\n",
       "      <td>1239</td>\n",
       "      <td>Illustrator</td>\n",
       "    </tr>\n",
       "    <tr>\n",
       "      <th>2</th>\n",
       "      <td>1</td>\n",
       "      <td>762</td>\n",
       "      <td>author</td>\n",
       "    </tr>\n",
       "    <tr>\n",
       "      <th>3</th>\n",
       "      <td>1</td>\n",
       "      <td>1239</td>\n",
       "      <td>Illustrator</td>\n",
       "    </tr>\n",
       "    <tr>\n",
       "      <th>4</th>\n",
       "      <td>2</td>\n",
       "      <td>762</td>\n",
       "      <td>author</td>\n",
       "    </tr>\n",
       "    <tr>\n",
       "      <th>...</th>\n",
       "      <td>...</td>\n",
       "      <td>...</td>\n",
       "      <td>...</td>\n",
       "    </tr>\n",
       "    <tr>\n",
       "      <th>4029</th>\n",
       "      <td>2740</td>\n",
       "      <td>1806</td>\n",
       "      <td>Illustrator</td>\n",
       "    </tr>\n",
       "    <tr>\n",
       "      <th>4030</th>\n",
       "      <td>2741</td>\n",
       "      <td>1374</td>\n",
       "      <td>author</td>\n",
       "    </tr>\n",
       "    <tr>\n",
       "      <th>4031</th>\n",
       "      <td>2741</td>\n",
       "      <td>385</td>\n",
       "      <td>Illustrator</td>\n",
       "    </tr>\n",
       "    <tr>\n",
       "      <th>4032</th>\n",
       "      <td>2742</td>\n",
       "      <td>1374</td>\n",
       "      <td>author</td>\n",
       "    </tr>\n",
       "    <tr>\n",
       "      <th>4033</th>\n",
       "      <td>2742</td>\n",
       "      <td>1318</td>\n",
       "      <td>author</td>\n",
       "    </tr>\n",
       "  </tbody>\n",
       "</table>\n",
       "<p>4034 rows × 3 columns</p>\n",
       "</div>"
      ],
      "text/plain": [
       "     bookID authorID         role\n",
       "0         0      762       author\n",
       "1         0     1239  Illustrator\n",
       "2         1      762       author\n",
       "3         1     1239  Illustrator\n",
       "4         2      762       author\n",
       "...     ...      ...          ...\n",
       "4029   2740     1806  Illustrator\n",
       "4030   2741     1374       author\n",
       "4031   2741      385  Illustrator\n",
       "4032   2742     1374       author\n",
       "4033   2742     1318       author\n",
       "\n",
       "[4034 rows x 3 columns]"
      ]
     },
     "execution_count": 130,
     "metadata": {},
     "output_type": "execute_result"
    }
   ],
   "source": [
    "directors_of_book"
   ]
  }
 ],
 "metadata": {
  "kernelspec": {
   "display_name": "Python 3",
   "language": "python",
   "name": "python3"
  },
  "language_info": {
   "codemirror_mode": {
    "name": "ipython",
    "version": 3
   },
   "file_extension": ".py",
   "mimetype": "text/x-python",
   "name": "python",
   "nbconvert_exporter": "python",
   "pygments_lexer": "ipython3",
   "version": "3.6.8"
  }
 },
 "nbformat": 4,
 "nbformat_minor": 2
}
